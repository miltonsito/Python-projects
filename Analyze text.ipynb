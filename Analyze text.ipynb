{
 "cells": [
  {
   "attachments": {},
   "cell_type": "markdown",
   "metadata": {},
   "source": [
    "It allows you to analyze texts. Find words. Count number of letters. Check word python"
   ]
  },
  {
   "cell_type": "code",
   "execution_count": 39,
   "metadata": {},
   "outputs": [
    {
     "name": "stdout",
     "output_type": "stream",
     "text": [
      "\n",
      "\n",
      "Number of letters\n",
      "The letter 'a' is repeated 6 times\n",
      "The letter's' is repeated 3 times\n",
      "The letter 'd' is repeated 2 times\n",
      "\n",
      "\n",
      "Number of words\n",
      "It was found 8 words of your text\n",
      "\n",
      "\n",
      "Letter at the beginning and letter at the end\n",
      "The initial letter is t\n",
      " The last letter is a\n",
      "\n",
      "\n",
      "Inverted text\n",
      "When sorting text backwards instantánea manera de completos archivos y texto traduce\n",
      "\n",
      "\n",
      "Searching for the word Python\n",
      "Is the word Python found in the text?? False\n"
     ]
    }
   ],
   "source": [
    "text = input( \"Enter your text: \")\n",
    "letters = []\n",
    "text = text.lower()\n",
    "letters.append(input(\"Enter the first letter: \").lower())\n",
    "letras.append(input(\"Enter the second letter: \").lower())\n",
    "letras.append(input(\"Enter the third letter: \").lower())\n",
    "\n",
    "print(\"\\n\")\n",
    "print(\"Number of letters\")\n",
    "cantidad_letras1 = texto.count(letras[0])\n",
    "cantidad_letras2 = texto.count(letras[1])\n",
    "cantidad_letras3 = texto.count(letras[2])\n",
    "print(f\"The letter '{letras[0]}' is repeated {cantidad_letras1} times\")\n",
    "print(f\"The letter'{letras[1]}' is repeated {cantidad_letras2} times\")\n",
    "print(f\"The letter '{letras[2]}' is repeated {cantidad_letras3} times\")\n",
    "\n",
    "print(\"\\n\")\n",
    "print(\"Number of words\")\n",
    "palabras = texto.split()\n",
    "print(f\"It was found {len(palabras)} words of your text\")\n",
    "\n",
    "print(\"\\n\")\n",
    "print(\"Letter at the beginning and letter at the end\")\n",
    "primera_letra = texto[0]\n",
    "ultima_letra = texto[-1]\n",
    "print(f\"The initial letter is {primera_letra}\\n The last letter is {ultima_letra}\")\n",
    "\n",
    "print(\"\\n\")\n",
    "print(\"Inverted text\")\n",
    "palabras.reverse()\n",
    "texto_inverso = \" \".join(palabras)\n",
    "print(f\"When sorting text backwards {texto_inverso}\")\n",
    "\n",
    "print(\"\\n\")\n",
    "print(\"Searching for the word Python\")\n",
    "\n",
    "texto1 = \"Python\" in texto\n",
    "\n",
    "print(f\"Is the word Python found in the text?? {texto1}\")\n",
    "\n",
    "\n"
   ]
  }
 ],
 "metadata": {
  "kernelspec": {
   "display_name": "Python 3",
   "language": "python",
   "name": "python3"
  },
  "language_info": {
   "codemirror_mode": {
    "name": "ipython",
    "version": 3
   },
   "file_extension": ".py",
   "mimetype": "text/x-python",
   "name": "python",
   "nbconvert_exporter": "python",
   "pygments_lexer": "ipython3",
   "version": "3.11.0"
  },
  "orig_nbformat": 4,
  "vscode": {
   "interpreter": {
    "hash": "730960339c468391152d7d7cc2db6238176efe2ec79e3671800a1708920693f9"
   }
  }
 },
 "nbformat": 4,
 "nbformat_minor": 2
}
