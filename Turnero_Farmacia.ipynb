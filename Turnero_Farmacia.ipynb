{
 "cells": [
  {
   "cell_type": "code",
   "execution_count": null,
   "metadata": {},
   "outputs": [],
   "source": [
    "import numeros_turnos\n",
    "\n",
    "def preguntar():\n",
    "\n",
    "    print(\"Bienvenido a Farmacia Python\")\n",
    "\n",
    "    while True:\n",
    "        print(\"[P] - Perfumería\\n[F] - Farmacia\\n[C] - Cosmútica\")\n",
    "        try:\n",
    "            mi_rubro = input(\"Elija su rubro: \").upper()\n",
    "            [\"P\", \"F\", \"C\"].index(mi_rubro)\n",
    "        except ValueError:\n",
    "            print(\"Esa no es una opción válida\")\n",
    "        else:\n",
    "            break\n",
    "\n",
    "    numeros.decorador(mi_rubro)\n",
    "\n",
    "\n",
    "def inicio():\n",
    "\n",
    "    while True:\n",
    "        preguntar()\n",
    "        try:\n",
    "            otro_turno = input(\"Quieres sacar otro turno? [S] [N]: \").upper()\n",
    "            [\"S\", \"N\"].index(otro_turno)\n",
    "        except ValueError:\n",
    "            print(\"Esa noes una opción válida\")\n",
    "        else:\n",
    "            if otro_turno == \"N\":\n",
    "                print(\"Gracias por su visita\")\n",
    "                break\n",
    "\n",
    "inicio()\n"
   ]
  }
 ],
 "metadata": {
  "language_info": {
   "name": "python"
  },
  "orig_nbformat": 4
 },
 "nbformat": 4,
 "nbformat_minor": 2
}
