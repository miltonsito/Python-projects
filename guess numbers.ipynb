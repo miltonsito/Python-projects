{
 "cells": [
  {
   "attachments": {},
   "cell_type": "markdown",
   "metadata": {},
   "source": [
    "The objective of the game is to guess the number in 8 tries, will you have a good strategy?"
   ]
  },
  {
   "cell_type": "code",
   "execution_count": 7,
   "metadata": {},
   "outputs": [
    {
     "name": "stdout",
     "output_type": "stream",
     "text": [
      "Good mil, Can you think of a number between 1 and 100?\n",
      "secret number is smaller\n",
      "The secret number is greater \n",
      "The secret number is greater \n",
      "The secret number is greater \n",
      "The secret number is greater \n",
      "The secret number is greater \n",
      "The secret number is greater \n",
      "The secret number is greater \n",
      "Sorry, your attempts have ended. The secret number was 44\n"
     ]
    }
   ],
   "source": [
    "from random import randint\n",
    "attempts = 0\n",
    "mix_number = randint(1, 100)\n",
    "name = input(\"what's your name?: \")\n",
    "print(f\"Good {name}, Can you think of a number between 1 and 100?\")\n",
    "while attempts < 8:\n",
    "    approximate = int(input(\"enter your number: \"))\n",
    "    attempts += 1\n",
    "    if approximate < mix_number:\n",
    "         print(\"The secret number is greater \")\n",
    "    if approximate > mix_number:\n",
    "                print(\"The secret number is smaller\")\n",
    "    if approximate == mix_number:\n",
    "                print(f\"Congratulations {nombre}, you did it in {attempts} tries\")\n",
    "                break\n",
    "if approximate != mix_number:\n",
    "     print(f\"Sorry, your attempts have ended. The secret number was {mix_number}\")\n",
    "    \n"
   ]
  }
 ],
 "metadata": {
  "kernelspec": {
   "display_name": "Python 3",
   "language": "python",
   "name": "python3"
  },
  "language_info": {
   "codemirror_mode": {
    "name": "ipython",
    "version": 3
   },
   "file_extension": ".py",
   "mimetype": "text/x-python",
   "name": "python",
   "nbconvert_exporter": "python",
   "pygments_lexer": "ipython3",
   "version": "3.11.0"
  },
  "orig_nbformat": 4,
  "vscode": {
   "interpreter": {
    "hash": "730960339c468391152d7d7cc2db6238176efe2ec79e3671800a1708920693f9"
   }
  }
 },
 "nbformat": 4,
 "nbformat_minor": 2
}
