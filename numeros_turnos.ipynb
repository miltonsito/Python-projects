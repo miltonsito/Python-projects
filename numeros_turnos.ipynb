{
 "cells": [
  {
   "cell_type": "code",
   "execution_count": null,
   "metadata": {},
   "outputs": [],
   "source": [
    "def numeros_perfumeria():\n",
    "    for n in range(1, 10000):\n",
    "        yield f\"P - {n}\"\n",
    "\n",
    "\n",
    "def numeros_farmacia():\n",
    "    for n in range(1, 10000):\n",
    "        yield f\"F - {n}\"\n",
    "\n",
    "\n",
    "def numeros_cosmetica():\n",
    "    for n in range(1, 10000):\n",
    "        yield f\"C - {n}\"\n",
    "\n",
    "\n",
    "p = numeros_perfumeria()\n",
    "f = numeros_farmacia()\n",
    "c = numeros_cosmetica()\n",
    "\n",
    "\n",
    "def decorador(rubro):\n",
    "\n",
    "    print(\"\\n\" + \"*\" * 23)\n",
    "    print(\"Su número es:\")\n",
    "    if rubro == \"P\":\n",
    "        print(next(p))\n",
    "    elif rubro == \"F\":\n",
    "        print(next(f))\n",
    "    else:\n",
    "        print(next(c))\n",
    "    print(\"Aguarde y será atendido\")\n",
    "    print(\"*\" * 23 + \"\\n\")\n"
   ]
  }
 ],
 "metadata": {
  "language_info": {
   "name": "python"
  },
  "orig_nbformat": 4
 },
 "nbformat": 4,
 "nbformat_minor": 2
}
