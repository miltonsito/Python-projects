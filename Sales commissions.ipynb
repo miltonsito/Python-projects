{
 "cells": [
  {
   "attachments": {},
   "cell_type": "markdown",
   "metadata": {},
   "source": [
    "13% Sales Commission Calculator"
   ]
  },
  {
   "cell_type": "code",
   "execution_count": 6,
   "metadata": {},
   "outputs": [
    {
     "name": "stdout",
     "output_type": "stream",
     "text": [
      "Very good kk, your commission is $117\n"
     ]
    }
   ],
   "source": [
    "name = input(\"Tell me your name \")\n",
    "sales = float(input(\"Amount of sales \"))\n",
    "commission = sales * 13 / 100\n",
    "\n",
    "print(f\"Very good {name}, your commission is ${round(commission)}\" )\n",
    "\n",
    "\n"
   ]
  }
 ],
 "metadata": {
  "kernelspec": {
   "display_name": "Python 3",
   "language": "python",
   "name": "python3"
  },
  "language_info": {
   "codemirror_mode": {
    "name": "ipython",
    "version": 3
   },
   "file_extension": ".py",
   "mimetype": "text/x-python",
   "name": "python",
   "nbconvert_exporter": "python",
   "pygments_lexer": "ipython3",
   "version": "3.11.0"
  },
  "orig_nbformat": 4,
  "vscode": {
   "interpreter": {
    "hash": "730960339c468391152d7d7cc2db6238176efe2ec79e3671800a1708920693f9"
   }
  }
 },
 "nbformat": 4,
 "nbformat_minor": 2
}
